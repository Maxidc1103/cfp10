{
  "nbformat": 4,
  "nbformat_minor": 0,
  "metadata": {
    "colab": {
      "provenance": [],
      "authorship_tag": "ABX9TyPvtA+SF3P6Iuwy3IhUHLHG",
      "include_colab_link": true
    },
    "kernelspec": {
      "name": "python3",
      "display_name": "Python 3"
    },
    "language_info": {
      "name": "python"
    }
  },
  "cells": [
    {
      "cell_type": "markdown",
      "metadata": {
        "id": "view-in-github",
        "colab_type": "text"
      },
      "source": [
        "<a href=\"https://colab.research.google.com/github/Maxidc1103/cfp10/blob/main/Ejecucion_condicional.ipynb\" target=\"_parent\"><img src=\"https://colab.research.google.com/assets/colab-badge.svg\" alt=\"Open In Colab\"/></a>"
      ]
    },
    {
      "cell_type": "code",
      "execution_count": null,
      "metadata": {
        "colab": {
          "base_uri": "https://localhost:8080/"
        },
        "id": "_aSyvkXccsNG",
        "outputId": "10aeeaf1-508b-40d1-bd2b-67e2e8fb5a7b"
      },
      "outputs": [
        {
          "output_type": "stream",
          "name": "stdout",
          "text": [
            "antes de 5\n",
            "es 5\n",
            "sigue siendo 5\n",
            "tercer 5\n",
            "despues de 5\n",
            "antes de 6\n",
            "despues de 6\n"
          ]
        }
      ],
      "source": [
        "x=5\n",
        "print(\"antes de 5\")\n",
        "if x==5:\n",
        "  print(\"es 5\")\n",
        "  print(\"sigue siendo 5\")\n",
        "  print(\"tercer 5\")\n",
        "print(\"despues de 5\")\n",
        "print(\"antes de 6\")\n",
        "if x==6:\n",
        "  print(\"es 6\")\n",
        "  print(\"sigue siendo 6\")\n",
        "  print(\"tercer 6\")\n",
        "print(\"despues de 6\")\n"
      ]
    },
    {
      "cell_type": "code",
      "source": [
        "x=5\n",
        "if x>2:\n",
        "  print(\"mayor que 2\")\n",
        "  print(\"sigue siendo mayor\")\n",
        "print(\"terminado con 2\")\n",
        "for i in range(5) :\n",
        "  print(i)\n",
        "  if i>2:\n",
        "    print(\"mayor que 2\")\n",
        "  print(\"terminado con i\", i)\n",
        "print(\"todo terminado\")"
      ],
      "metadata": {
        "colab": {
          "base_uri": "https://localhost:8080/"
        },
        "id": "P9FQIjsfffYE",
        "outputId": "a6884935-dc5a-46e3-b069-e9b7e9310017"
      },
      "execution_count": null,
      "outputs": [
        {
          "output_type": "stream",
          "name": "stdout",
          "text": [
            "mayor que 2\n",
            "sigue siendo mayor\n",
            "terminado con 2\n",
            "0\n",
            "terminado con i 0\n",
            "1\n",
            "terminado con i 1\n",
            "2\n",
            "terminado con i 2\n",
            "3\n",
            "mayor que 2\n",
            "terminado con i 3\n",
            "4\n",
            "mayor que 2\n",
            "terminado con i 4\n",
            "todo terminado\n"
          ]
        }
      ]
    },
    {
      "cell_type": "code",
      "source": [
        "tarifa =float(input(\"ingrese la tarifa: \"))\n",
        "horas =int(input(\"ingrese la cantidad de horas trabajadas: \"))\n",
        "if horas > 40:\n",
        "  extras=horas-40\n",
        "  salario= tarifa * 1,5 * extras + 40 * tarifa\n",
        "else:\n",
        "  salario= tarifa * horas\n",
        "print(salario,\"$\")\n"
      ],
      "metadata": {
        "id": "L14ASMJvjihW",
        "colab": {
          "base_uri": "https://localhost:8080/"
        },
        "outputId": "53e49b3d-58c1-4789-8c84-2c4509c3029b"
      },
      "execution_count": null,
      "outputs": [
        {
          "output_type": "stream",
          "name": "stdout",
          "text": [
            "ingrese la tarifa: 10\n",
            "ingrese la cantidad de horas trabajadas: 45\n",
            "(10.0, 425.0) $\n"
          ]
        }
      ]
    },
    {
      "cell_type": "markdown",
      "source": [
        "Ejercicio 2: Reescribir el programa del salario usando try y except, de modo que el progama sea capaz de gestionar entradas de numericas con elegancia, mostrando un mensaje y saliendo del programa. A continuacion se muestran dos ejecuciones del programa"
      ],
      "metadata": {
        "id": "N21rNC6ebfFG"
      }
    },
    {
      "cell_type": "code",
      "source": [
        "tarifa =input(\"ingrese la tarifa (solo numeros): \")\n",
        "horas = input(\"ingrese la cantidad de horas trabajadas(solo numeros): \")\n",
        "try:\n",
        "  tarifa=float(tarifa)\n",
        "  horas=int(horas)\n",
        "  if horas>40:\n",
        "    extras=horas-40\n",
        "    salario= tarifa * 1.5 * extras + 40 * tarifa\n",
        "  else:\n",
        "    salario= tarifa * horas\n",
        "  print(\"el salario seria: \",salario,\"$\")\n",
        "except:\n",
        "  print(\"hacelo bien mamerto\")"
      ],
      "metadata": {
        "id": "8G4BpBRnUTuD",
        "colab": {
          "base_uri": "https://localhost:8080/"
        },
        "outputId": "51a96419-c832-44cf-b488-6dbdbbfee7e2"
      },
      "execution_count": null,
      "outputs": [
        {
          "output_type": "stream",
          "name": "stdout",
          "text": [
            "ingrese la tarifa (solo numeros): 5\n",
            "ingrese la cantidad de horas trabajadas(solo numeros): 5\n",
            "el salario seria:  25.0 $\n"
          ]
        }
      ]
    },
    {
      "cell_type": "markdown",
      "source": [
        "Ejercicio 3: Escribe un programa que solicite una puntuacion entre 0.0 y 1.0. Si la puntutacion esta fuera de ese rango muestra un mensaje de error. Si la puntuacion esta entre 0.0 y 1.0, muestre la calificacion usando la tabla siguiente\n",
        "\n",
        "Puntuacion Calificacion\n",
        "\n",
        "`>=` 0.9 Sobresaliente\n",
        "\n",
        "`>=` 0.8 Notable\n",
        "\n",
        "`>=` 0.7 Bien\n",
        "\n",
        "`>=` 0.6 Suficiente\n",
        "\n",
        "`<` 0.6 Insuficiente"
      ],
      "metadata": {
        "id": "BJdJHF6Jfbh2"
      }
    },
    {
      "cell_type": "code",
      "source": [
        "Puntuacion =input(\"Introduzca la puntuacion \")\n",
        "try:\n",
        "  Puntuacion=float(Puntuacion)\n",
        "  if (Puntuacion <0.6):\n",
        "    print(\"Nota final:Insuficiente\")\n",
        "  elif (Puntuacion <0.7 and Puntuacion >=0.6):\n",
        "    print(\"Nota final:Suficiente\")\n",
        "  elif (Puntuacion <0.8 and Puntuacion >=0.7):\n",
        "    print(\"Nota final:Bien\")\n",
        "  elif (Puntuacion <0.9 and Puntuacion >=0.8):\n",
        "    print(\"Nota final:Notable\")\n",
        "  else:\n",
        "    (Puntuacion <1.0 and Puntuacion >=0.9)\n",
        "    print(\"Nota final:Sobresaliente\")\n",
        "except:\n",
        "  print(\"Poner numeros entre 0.0 y 1.0\")\n"
      ],
      "metadata": {
        "colab": {
          "base_uri": "https://localhost:8080/"
        },
        "outputId": "8020ac16-9b48-40a0-97cd-06f8691ab428",
        "id": "tim7LemqotMd"
      },
      "execution_count": 20,
      "outputs": [
        {
          "output_type": "stream",
          "name": "stdout",
          "text": [
            "Introduzca la puntuacion 0.8\n",
            "Nota final:Notable\n"
          ]
        }
      ]
    },
    {
      "cell_type": "code",
      "source": [],
      "metadata": {
        "id": "ODug50_nlSMz"
      },
      "execution_count": 4,
      "outputs": []
    }
  ]
}