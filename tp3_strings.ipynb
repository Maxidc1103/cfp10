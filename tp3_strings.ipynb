{
  "nbformat": 4,
  "nbformat_minor": 0,
  "metadata": {
    "colab": {
      "provenance": [],
      "authorship_tag": "ABX9TyMwFLnN9t0vOdm+vGQqyCWa",
      "include_colab_link": true
    },
    "kernelspec": {
      "name": "python3",
      "display_name": "Python 3"
    },
    "language_info": {
      "name": "python"
    }
  },
  "cells": [
    {
      "cell_type": "markdown",
      "metadata": {
        "id": "view-in-github",
        "colab_type": "text"
      },
      "source": [
        "<a href=\"https://colab.research.google.com/github/Maxidc1103/cfp10/blob/main/tp3_strings.ipynb\" target=\"_parent\"><img src=\"https://colab.research.google.com/assets/colab-badge.svg\" alt=\"Open In Colab\"/></a>"
      ]
    },
    {
      "cell_type": "code",
      "source": [],
      "metadata": {
        "id": "-V_vcpSYrq_F"
      },
      "execution_count": null,
      "outputs": []
    },
    {
      "cell_type": "markdown",
      "source": [
        "###Ejercicio 1\n",
        "\n",
        "Utiliza las funciones de concatenar, + y repetir string, `*`, junto con la funcion `print()` para dados los suiguientes strings s1, s2, s3, s4, conseguir el resultado siguiente: **habia una vez, un barco chiquitito, habia una vez, un barquito chiquitito, que no podia, que no podia, que no podia navegar.**"
      ],
      "metadata": {
        "id": "ILgrzfyYCqdj"
      }
    },
    {
      "cell_type": "code",
      "execution_count": null,
      "metadata": {
        "id": "OFQQkxgVCnhi",
        "colab": {
          "base_uri": "https://localhost:8080/",
          "height": 53
        },
        "outputId": "6282e115-84c1-42a1-b432-ba4a015418dd"
      },
      "outputs": [
        {
          "output_type": "execute_result",
          "data": {
            "text/plain": [
              "'Habia una vez, un barco chiquito, Habia una vez, un barco chiquito, que no podia, que no podia, que no podia navegar.'"
            ],
            "application/vnd.google.colaboratory.intrinsic+json": {
              "type": "string"
            }
          },
          "metadata": {},
          "execution_count": 2
        }
      ],
      "source": [
        "s1 = \"Habia una vez, \"\n",
        "s2 = \"un barco chiquito, \"\n",
        "s3 = \"que no podia, \"\n",
        "s4 = \"que no podia navegar.\"\n",
        "s1 + s2 + s1 + s2 + s3 * 2 + s4"
      ]
    },
    {
      "cell_type": "markdown",
      "source": [
        "###Ejercicio 2\n",
        "\n",
        "Utiliza la funcion `print()` y el comando de salto de linea, \\n, para reproducir exactamente el siguiente texto:\n",
        "\n",
        "Erase un hombre a una nariz pegado,\n",
        "Erase una nariz superlativa,\n",
        "Erase una alquitara medio viva,\n",
        "Erase un peje espada mal barbado;"
      ],
      "metadata": {
        "id": "pCD4oMpwwfVm"
      }
    },
    {
      "cell_type": "code",
      "source": [
        "s1 = \"Érase un hombre a una nariz pegada,\\nÉrase una nariz superlativa,\\nÉrase una alquitara medio viva,\\nÉrase un peje espada mal barbado;\"\n",
        "print(s1)"
      ],
      "metadata": {
        "id": "QYH7C326gsjq",
        "colab": {
          "base_uri": "https://localhost:8080/"
        },
        "outputId": "403cc0aa-dd90-48ed-b113-cf551cb9d9cf"
      },
      "execution_count": null,
      "outputs": [
        {
          "output_type": "stream",
          "name": "stdout",
          "text": [
            "Érase un hombre a una nariz pegada,\n",
            "Érase una nariz superlativa,\n",
            "Érase una alquitara medio viva,\n",
            "Érase un peje espada mal barbado;\n"
          ]
        }
      ]
    },
    {
      "cell_type": "markdown",
      "source": [
        "### Ejercicio 3\n",
        "\n",
        "Transforma el siguiente string s a mayusculas y muestralo por pantalla con la funcion `print()`"
      ],
      "metadata": {
        "id": "v4QYL951ysZO"
      }
    },
    {
      "cell_type": "code",
      "source": [
        "s = \"me encantan las matematicas\"\n",
        "s.upper()"
      ],
      "metadata": {
        "colab": {
          "base_uri": "https://localhost:8080/",
          "height": 35
        },
        "id": "PpbIO5luysH-",
        "outputId": "49cca240-ff6a-4dd4-e86a-924673a7ae90"
      },
      "execution_count": null,
      "outputs": [
        {
          "output_type": "execute_result",
          "data": {
            "text/plain": [
              "'ME ENCANTAN LAS MATEMATICAS'"
            ],
            "application/vnd.google.colaboratory.intrinsic+json": {
              "type": "string"
            }
          },
          "metadata": {},
          "execution_count": 8
        }
      ]
    },
    {
      "cell_type": "markdown",
      "source": [
        "###Ejercicio 4\n",
        "\n",
        "Calcula la longitud del string s"
      ],
      "metadata": {
        "id": "is24Sf8xzhLG"
      }
    },
    {
      "cell_type": "code",
      "source": [
        "s = \"Mi pasion por el chocolate es superior a mis fuerzas\"\n",
        "len(s)"
      ],
      "metadata": {
        "colab": {
          "base_uri": "https://localhost:8080/"
        },
        "id": "M4uYK57nzdzS",
        "outputId": "3cb83f2c-b54f-41ce-a671-ebefd17da81a"
      },
      "execution_count": null,
      "outputs": [
        {
          "output_type": "execute_result",
          "data": {
            "text/plain": [
              "52"
            ]
          },
          "metadata": {},
          "execution_count": 10
        }
      ]
    },
    {
      "cell_type": "markdown",
      "source": [
        "### Ejercicio 5\n",
        "\n",
        "Del string s del ejercicio anterior, obten el substring chocolate y guardalo en una variable llamada s_sub. No vale contar, deberas hallar los indices del substring con el metodo `.find()` (o el que mejo consideres) y la funcion `len()`.\n",
        "\n",
        "Finalmente, imprime tu resultado por pantalla"
      ],
      "metadata": {
        "id": "xvrS8r7A6TFz"
      }
    },
    {
      "cell_type": "code",
      "source": [
        "s = \"Mi pasion por el chocolate es superior a mis fuerzas\"\n",
        "s.find(\"chocolate\")"
      ],
      "metadata": {
        "id": "3pPX_mDu6QdU",
        "colab": {
          "base_uri": "https://localhost:8080/"
        },
        "outputId": "ba9b1bfd-40b8-4023-b34d-02c1ee00e7f7"
      },
      "execution_count": null,
      "outputs": [
        {
          "output_type": "execute_result",
          "data": {
            "text/plain": [
              "17"
            ]
          },
          "metadata": {},
          "execution_count": 9
        }
      ]
    },
    {
      "cell_type": "code",
      "source": [
        "s_sub = s[s.find(\"chocolate\"): s.find(\"chocolate\")+len(\"chocolate\")]\n",
        "s_sub"
      ],
      "metadata": {
        "colab": {
          "base_uri": "https://localhost:8080/",
          "height": 35
        },
        "id": "tt0ky8I-mcO6",
        "outputId": "f8aa3154-360b-4c70-940e-32fdb7085bb4"
      },
      "execution_count": null,
      "outputs": [
        {
          "output_type": "execute_result",
          "data": {
            "text/plain": [
              "'chocolate'"
            ],
            "application/vnd.google.colaboratory.intrinsic+json": {
              "type": "string"
            }
          },
          "metadata": {},
          "execution_count": 16
        }
      ]
    },
    {
      "cell_type": "code",
      "source": [
        "len(\"chocolate\")\n"
      ],
      "metadata": {
        "colab": {
          "base_uri": "https://localhost:8080/"
        },
        "id": "F8L_BKHcoEgE",
        "outputId": "fca43e1d-5111-4ac6-c504-c9d20b5bd459"
      },
      "execution_count": null,
      "outputs": [
        {
          "output_type": "execute_result",
          "data": {
            "text/plain": [
              "9"
            ]
          },
          "metadata": {},
          "execution_count": 14
        }
      ]
    },
    {
      "cell_type": "markdown",
      "source": [
        "###Ejercicio 6\n",
        "\n",
        "Con la funcion `input()`, indicale al usuario que introduzca su nombre y guardelo en la variable llamada `nombre`"
      ],
      "metadata": {
        "id": "_M7qxI0oW66X"
      }
    },
    {
      "cell_type": "code",
      "source": [
        "nombre = input(\"Ingrese su nombre: \")"
      ],
      "metadata": {
        "id": "dI2Wh_7IoQKP",
        "colab": {
          "base_uri": "https://localhost:8080/"
        },
        "outputId": "5c8d7ddf-30b4-448e-89bb-97cb4fb486f3"
      },
      "execution_count": 1,
      "outputs": [
        {
          "name": "stdout",
          "output_type": "stream",
          "text": [
            "Ingrese su nombre: Maxi\n"
          ]
        }
      ]
    },
    {
      "cell_type": "markdown",
      "source": [
        "###Ejercicio 7\n",
        "\n",
        "Con la funcion `input()`, indicale al usuario que introduzca su apellido y guardelo en la variable llamada `apellido`"
      ],
      "metadata": {
        "id": "UQ6EzQlpZDY3"
      }
    },
    {
      "cell_type": "code",
      "source": [
        "apellido = input(\"Ingrese su apellido: \")"
      ],
      "metadata": {
        "colab": {
          "base_uri": "https://localhost:8080/"
        },
        "id": "FPYnbA6aY1DX",
        "outputId": "7e918842-cfd3-4a06-f846-7badd80fdda8"
      },
      "execution_count": 2,
      "outputs": [
        {
          "name": "stdout",
          "output_type": "stream",
          "text": [
            "Ingrese su apellido: Dabalo Carrizo\n"
          ]
        }
      ]
    },
    {
      "cell_type": "markdown",
      "source": [
        "###Ejercicio 8\n",
        "\n",
        "Con la funcion`input()`, indicale al usuario que introduzca su edad y guardelo en la variable `edad`"
      ],
      "metadata": {
        "id": "0uuDnA0QZskv"
      }
    },
    {
      "cell_type": "code",
      "source": [
        "edad = input(\"Introduzca su edad: \")"
      ],
      "metadata": {
        "colab": {
          "base_uri": "https://localhost:8080/"
        },
        "id": "Qvq9sI1NZlrd",
        "outputId": "6d64980c-ab98-48b9-9ee9-dc1a5cbc87ee"
      },
      "execution_count": 3,
      "outputs": [
        {
          "name": "stdout",
          "output_type": "stream",
          "text": [
            "Introduzca su edad: 19\n"
          ]
        }
      ]
    },
    {
      "cell_type": "markdown",
      "source": [
        "###Ejercicio 9\n",
        "\n",
        "Con la funcion `input()`, indicale al usuario que introduzca su edad y guardelo en la variable `ciudad`"
      ],
      "metadata": {
        "id": "EFeQujh7a5Bh"
      }
    },
    {
      "cell_type": "code",
      "source": [
        "ciudad = input(\"Introduzca su ciudad: \")"
      ],
      "metadata": {
        "colab": {
          "base_uri": "https://localhost:8080/"
        },
        "id": "Nf1KJG1-anW0",
        "outputId": "52facf95-0c2f-41ef-d2c4-53de5a73857d"
      },
      "execution_count": 4,
      "outputs": [
        {
          "name": "stdout",
          "output_type": "stream",
          "text": [
            "Introduzca su ciudad: Provincia de Buenos Aires\n"
          ]
        }
      ]
    },
    {
      "cell_type": "markdown",
      "source": [
        "###Ejercicio 10\n",
        "\n",
        "Con lo hecho en el ejercicio 6, 7, 8 y 9 imprime por pantalla todos los datos introducidos por el usuario tal y como se muestra en el siguiente ejemplo donde el usuario a indicado que su nombre es Maria; su apellido, Santos; su edad, 21 y su ciudad es, Palma de Mayorca.\n",
        "\n",
        "Su nombre es Maria Santos, tiene 21 años y actualmente vive en Palma de Mayorca"
      ],
      "metadata": {
        "id": "F-IOwlRWbsae"
      }
    },
    {
      "cell_type": "code",
      "source": [
        "nombre = input(\"Introduzca su nombre y : \")\n",
        "apellido = input(\"Introduzca su apellido: \")\n",
        "edad = input(\"Introduzca su edad: \")\n",
        "ciudad = input(\"Introduzca su ciudad: \")"
      ],
      "metadata": {
        "colab": {
          "base_uri": "https://localhost:8080/"
        },
        "id": "I--4b3-YboDN",
        "outputId": "bb64fba2-0774-47d9-f319-c0f7e5ba5388"
      },
      "execution_count": 10,
      "outputs": [
        {
          "name": "stdout",
          "output_type": "stream",
          "text": [
            "Introduzca su nombre y : Maria\n",
            "Introduzca su apellido: Santos\n",
            "Introduzca su edad: 21\n",
            "Introduzca su ciudad: Palma de Mayorca\n"
          ]
        }
      ]
    },
    {
      "cell_type": "code",
      "source": [
        "print(\"su nombre es {} {}, tiene {} y actualmente vive en {}\".format(nombre, apellido, edad, ciudad))"
      ],
      "metadata": {
        "colab": {
          "base_uri": "https://localhost:8080/"
        },
        "id": "LC_RGCJldpoN",
        "outputId": "1d82760b-8693-4dd0-d4f3-778185093b63"
      },
      "execution_count": 12,
      "outputs": [
        {
          "output_type": "stream",
          "name": "stdout",
          "text": [
            "su nombre es Maria Santos, tiene 21 y actualmente vive en Palma de Mayorca\n"
          ]
        }
      ]
    },
    {
      "cell_type": "code",
      "source": [],
      "metadata": {
        "id": "vqwWwwCyeoN0"
      },
      "execution_count": null,
      "outputs": []
    }
  ]
}